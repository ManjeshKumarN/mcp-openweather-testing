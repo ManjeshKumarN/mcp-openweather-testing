{
 "cells": [
  {
   "cell_type": "markdown",
   "id": "0138c0df",
   "metadata": {},
   "source": [
    "### How to connect to exising MCP server available\n",
    "### Download the MCP server \n",
    "### run the servers on local machine and consumed by agents "
   ]
  },
  {
   "cell_type": "code",
   "execution_count": null,
   "id": "e95330a7",
   "metadata": {},
   "outputs": [],
   "source": [
    "# using the mcp server already developed from github\n",
    "# github main : https://github.com/modelcontextprotocol/servers \n",
    "# https://github.com/mschneider82/mcp-openweather - actual weather mcp server repo\n",
    "# fork the above repository in case of codesapces \n",
    "# clone the above reposotory to local if developing in local"
   ]
  },
  {
   "cell_type": "code",
   "execution_count": null,
   "id": "47153991",
   "metadata": {},
   "outputs": [],
   "source": [
    "# in github code spaces go os already pre installed\n",
    "# On running this : \"go version go1.24.5 linux/amd64\" in terminal \n",
    "# mcp-weather file is created\n",
    "\n",
    "# require .exe file to of mcp server so\n",
    "# run : go build -o mcp-weather.exe  ( this will run the main.go file and creates an mcp-weather.exe file)\n",
    "# now mcp server is built in local"
   ]
  },
  {
   "cell_type": "code",
   "execution_count": 4,
   "metadata": {},
   "outputs": [
    {
     "name": "stdout",
     "output_type": "stream",
     "text": [
      "Requirement already satisfied: python-dotenv in /usr/local/python/3.12.1/lib/python3.12/site-packages (1.1.1)\n",
      "Requirement already satisfied: langchain-mcp-adapters in /usr/local/python/3.12.1/lib/python3.12/site-packages (0.1.9)\n",
      "Requirement already satisfied: langgraph in /usr/local/python/3.12.1/lib/python3.12/site-packages (0.6.7)\n",
      "Requirement already satisfied: mcp in /usr/local/python/3.12.1/lib/python3.12/site-packages (1.14.0)\n",
      "Collecting langchain-groq\n",
      "  Downloading langchain_groq-0.3.8-py3-none-any.whl.metadata (2.6 kB)\n",
      "Requirement already satisfied: langchain-core<0.4,>=0.3.36 in /usr/local/python/3.12.1/lib/python3.12/site-packages (from langchain-mcp-adapters) (0.3.76)\n",
      "Requirement already satisfied: typing-extensions>=4.14.0 in /home/codespace/.local/lib/python3.12/site-packages (from langchain-mcp-adapters) (4.14.1)\n",
      "Requirement already satisfied: langsmith>=0.3.45 in /usr/local/python/3.12.1/lib/python3.12/site-packages (from langchain-core<0.4,>=0.3.36->langchain-mcp-adapters) (0.4.27)\n",
      "Requirement already satisfied: tenacity!=8.4.0,<10.0.0,>=8.1.0 in /usr/local/python/3.12.1/lib/python3.12/site-packages (from langchain-core<0.4,>=0.3.36->langchain-mcp-adapters) (9.1.2)\n",
      "Requirement already satisfied: jsonpatch<2.0,>=1.33 in /usr/local/python/3.12.1/lib/python3.12/site-packages (from langchain-core<0.4,>=0.3.36->langchain-mcp-adapters) (1.33)\n",
      "Requirement already satisfied: PyYAML>=5.3 in /home/codespace/.local/lib/python3.12/site-packages (from langchain-core<0.4,>=0.3.36->langchain-mcp-adapters) (6.0.2)\n",
      "Requirement already satisfied: packaging>=23.2 in /home/codespace/.local/lib/python3.12/site-packages (from langchain-core<0.4,>=0.3.36->langchain-mcp-adapters) (25.0)\n",
      "Requirement already satisfied: pydantic>=2.7.4 in /usr/local/python/3.12.1/lib/python3.12/site-packages (from langchain-core<0.4,>=0.3.36->langchain-mcp-adapters) (2.11.9)\n",
      "Requirement already satisfied: jsonpointer>=1.9 in /home/codespace/.local/lib/python3.12/site-packages (from jsonpatch<2.0,>=1.33->langchain-core<0.4,>=0.3.36->langchain-mcp-adapters) (3.0.0)\n",
      "Requirement already satisfied: langgraph-checkpoint<3.0.0,>=2.1.0 in /usr/local/python/3.12.1/lib/python3.12/site-packages (from langgraph) (2.1.1)\n",
      "Requirement already satisfied: langgraph-prebuilt<0.7.0,>=0.6.0 in /usr/local/python/3.12.1/lib/python3.12/site-packages (from langgraph) (0.6.4)\n",
      "Requirement already satisfied: langgraph-sdk<0.3.0,>=0.2.2 in /usr/local/python/3.12.1/lib/python3.12/site-packages (from langgraph) (0.2.6)\n",
      "Requirement already satisfied: xxhash>=3.5.0 in /usr/local/python/3.12.1/lib/python3.12/site-packages (from langgraph) (3.5.0)\n",
      "Requirement already satisfied: ormsgpack>=1.10.0 in /usr/local/python/3.12.1/lib/python3.12/site-packages (from langgraph-checkpoint<3.0.0,>=2.1.0->langgraph) (1.10.0)\n",
      "Requirement already satisfied: httpx>=0.25.2 in /home/codespace/.local/lib/python3.12/site-packages (from langgraph-sdk<0.3.0,>=0.2.2->langgraph) (0.28.1)\n",
      "Requirement already satisfied: orjson>=3.10.1 in /usr/local/python/3.12.1/lib/python3.12/site-packages (from langgraph-sdk<0.3.0,>=0.2.2->langgraph) (3.11.3)\n",
      "Requirement already satisfied: anyio>=4.5 in /home/codespace/.local/lib/python3.12/site-packages (from mcp) (4.9.0)\n",
      "Requirement already satisfied: httpx-sse>=0.4 in /usr/local/python/3.12.1/lib/python3.12/site-packages (from mcp) (0.4.1)\n",
      "Requirement already satisfied: jsonschema>=4.20.0 in /home/codespace/.local/lib/python3.12/site-packages (from mcp) (4.24.0)\n",
      "Requirement already satisfied: pydantic-settings>=2.5.2 in /usr/local/python/3.12.1/lib/python3.12/site-packages (from mcp) (2.10.1)\n",
      "Requirement already satisfied: python-multipart>=0.0.9 in /usr/local/python/3.12.1/lib/python3.12/site-packages (from mcp) (0.0.20)\n",
      "Requirement already satisfied: sse-starlette>=1.6.1 in /usr/local/python/3.12.1/lib/python3.12/site-packages (from mcp) (3.0.2)\n",
      "Requirement already satisfied: starlette>=0.27 in /usr/local/python/3.12.1/lib/python3.12/site-packages (from mcp) (0.48.0)\n",
      "Requirement already satisfied: uvicorn>=0.31.1 in /usr/local/python/3.12.1/lib/python3.12/site-packages (from mcp) (0.35.0)\n",
      "Requirement already satisfied: annotated-types>=0.6.0 in /usr/local/python/3.12.1/lib/python3.12/site-packages (from pydantic>=2.7.4->langchain-core<0.4,>=0.3.36->langchain-mcp-adapters) (0.7.0)\n",
      "Requirement already satisfied: pydantic-core==2.33.2 in /usr/local/python/3.12.1/lib/python3.12/site-packages (from pydantic>=2.7.4->langchain-core<0.4,>=0.3.36->langchain-mcp-adapters) (2.33.2)\n",
      "Requirement already satisfied: typing-inspection>=0.4.0 in /usr/local/python/3.12.1/lib/python3.12/site-packages (from pydantic>=2.7.4->langchain-core<0.4,>=0.3.36->langchain-mcp-adapters) (0.4.1)\n",
      "Collecting groq<1,>=0.30.0 (from langchain-groq)\n",
      "  Downloading groq-0.31.1-py3-none-any.whl.metadata (16 kB)\n",
      "Collecting distro<2,>=1.7.0 (from groq<1,>=0.30.0->langchain-groq)\n",
      "  Downloading distro-1.9.0-py3-none-any.whl.metadata (6.8 kB)\n",
      "Requirement already satisfied: sniffio in /home/codespace/.local/lib/python3.12/site-packages (from groq<1,>=0.30.0->langchain-groq) (1.3.1)\n",
      "Requirement already satisfied: idna>=2.8 in /home/codespace/.local/lib/python3.12/site-packages (from anyio>=4.5->mcp) (3.10)\n",
      "Requirement already satisfied: certifi in /home/codespace/.local/lib/python3.12/site-packages (from httpx>=0.25.2->langgraph-sdk<0.3.0,>=0.2.2->langgraph) (2025.7.9)\n",
      "Requirement already satisfied: httpcore==1.* in /home/codespace/.local/lib/python3.12/site-packages (from httpx>=0.25.2->langgraph-sdk<0.3.0,>=0.2.2->langgraph) (1.0.9)\n",
      "Requirement already satisfied: h11>=0.16 in /home/codespace/.local/lib/python3.12/site-packages (from httpcore==1.*->httpx>=0.25.2->langgraph-sdk<0.3.0,>=0.2.2->langgraph) (0.16.0)\n",
      "Requirement already satisfied: attrs>=22.2.0 in /home/codespace/.local/lib/python3.12/site-packages (from jsonschema>=4.20.0->mcp) (25.3.0)\n",
      "Requirement already satisfied: jsonschema-specifications>=2023.03.6 in /home/codespace/.local/lib/python3.12/site-packages (from jsonschema>=4.20.0->mcp) (2025.4.1)\n",
      "Requirement already satisfied: referencing>=0.28.4 in /home/codespace/.local/lib/python3.12/site-packages (from jsonschema>=4.20.0->mcp) (0.36.2)\n",
      "Requirement already satisfied: rpds-py>=0.7.1 in /home/codespace/.local/lib/python3.12/site-packages (from jsonschema>=4.20.0->mcp) (0.26.0)\n",
      "Requirement already satisfied: requests-toolbelt>=1.0.0 in /usr/local/python/3.12.1/lib/python3.12/site-packages (from langsmith>=0.3.45->langchain-core<0.4,>=0.3.36->langchain-mcp-adapters) (1.0.0)\n",
      "Requirement already satisfied: requests>=2.0.0 in /home/codespace/.local/lib/python3.12/site-packages (from langsmith>=0.3.45->langchain-core<0.4,>=0.3.36->langchain-mcp-adapters) (2.32.4)\n",
      "Requirement already satisfied: zstandard>=0.23.0 in /usr/local/python/3.12.1/lib/python3.12/site-packages (from langsmith>=0.3.45->langchain-core<0.4,>=0.3.36->langchain-mcp-adapters) (0.24.0)\n",
      "Requirement already satisfied: charset_normalizer<4,>=2 in /home/codespace/.local/lib/python3.12/site-packages (from requests>=2.0.0->langsmith>=0.3.45->langchain-core<0.4,>=0.3.36->langchain-mcp-adapters) (3.4.2)\n",
      "Requirement already satisfied: urllib3<3,>=1.21.1 in /home/codespace/.local/lib/python3.12/site-packages (from requests>=2.0.0->langsmith>=0.3.45->langchain-core<0.4,>=0.3.36->langchain-mcp-adapters) (2.5.0)\n",
      "Requirement already satisfied: click>=7.0 in /usr/local/python/3.12.1/lib/python3.12/site-packages (from uvicorn>=0.31.1->mcp) (8.2.1)\n",
      "Downloading langchain_groq-0.3.8-py3-none-any.whl (16 kB)\n",
      "Downloading groq-0.31.1-py3-none-any.whl (134 kB)\n",
      "Downloading distro-1.9.0-py3-none-any.whl (20 kB)\n",
      "Installing collected packages: distro, groq, langchain-groq\n",
      "\u001b[2K   \u001b[90m━━━━━━━━━━━━━━━━━━━━━━━━━━━━━━━━━━━━━━━━\u001b[0m \u001b[32m3/3\u001b[0m [langchain-groq]\n",
      "\u001b[1A\u001b[2KSuccessfully installed distro-1.9.0 groq-0.31.1 langchain-groq-0.3.8\n",
      "\n",
      "\u001b[1m[\u001b[0m\u001b[34;49mnotice\u001b[0m\u001b[1;39;49m]\u001b[0m\u001b[39;49m A new release of pip is available: \u001b[0m\u001b[31;49m25.1.1\u001b[0m\u001b[39;49m -> \u001b[0m\u001b[32;49m25.2\u001b[0m\n",
      "\u001b[1m[\u001b[0m\u001b[34;49mnotice\u001b[0m\u001b[1;39;49m]\u001b[0m\u001b[39;49m To update, run: \u001b[0m\u001b[32;49mpython3 -m pip install --upgrade pip\u001b[0m\n"
     ]
    }
   ],
   "source": [
    "# install all the below packages\n",
    "! pip install python-dotenv langchain-mcp-adapters langgraph mcp langchain-groq\n",
    "# langchain-mcp-adapters  -- is used to use mcp with langchain or langgraph"
   ]
  },
  {
   "cell_type": "code",
   "execution_count": null,
   "id": "bb2b8240",
   "metadata": {},
   "outputs": [],
   "source": [
    "# to run  \"./mcp-weather.exe\" -- in one terminal to start the mcp server\n",
    "# then run the .py file to test the mcp server with langgraph and langchain in another terminal (which will not give any output just runs)"
   ]
  },
  {
   "cell_type": "code",
   "execution_count": null,
   "id": "34c50207",
   "metadata": {},
   "outputs": [],
   "source": [
    "# adding another mcp server : calculator \n",
    "# https://github.com/githejie/mcp-server-calculator\n",
    "\n",
    "# pip install mcp-server-calculator -- to install the calculator mcp server locally\n",
    "# python -m mcp_server_calculator -- in another terminal to start the mcp server for calculator (which will not give any output just runs)"
   ]
  },
  {
   "cell_type": "code",
   "execution_count": null,
   "id": "f6cc0468",
   "metadata": {},
   "outputs": [],
   "source": [
    "# edit this in the MCP server client config in mcp_run_local.py\n",
    "# \"mcpServers\": {\n",
    "#   \"calculator\": {\n",
    "#     \"command\": \"python\",\n",
    "#     \"args\": [\"-m\", \"mcp_server_calculator\"]\n",
    "#   }\n",
    "# }"
   ]
  },
  {
   "cell_type": "code",
   "execution_count": null,
   "metadata": {},
   "outputs": [],
   "source": [
    "# Notes: before running mcp_run_local.py make sure to run the mcp-weather.exe in another terminal \n",
    "# and also run the calculator mcp server in another terminal using python -m mcp_server_calculator\n",
    "# so that both the mcp servers are running when we run the mcp_run_local.py file\n",
    "# now we can ask both weather and calculation questions in the same input prompt\n",
    "\n",
    "# i tried without running the \".mcp-weather.exe\" and \"python -m mcp_server_calculator\" the MCPserverclient will actually take care of spinning up as a subprocess"
   ]
  },
  {
   "cell_type": "code",
   "execution_count": null,
   "id": "a7ba47ff",
   "metadata": {},
   "outputs": [],
   "source": [
    "# MultiServerMCPClient creates an MCP Client, not a server.\n",
    "# However, it can launch and connect to multiple MCP servers automatically — that’s why it looks like it’s “creating” servers, but technically it’s just starting them as subprocesses and acting as their client\n",
    "\n",
    "# It does not create MCP servers.\n",
    "# It starts existing server executables (processes).\n",
    "# It acts as the MCP client for those servers"
   ]
  },
  {
   "cell_type": "markdown",
   "id": "a1a3220a",
   "metadata": {},
   "source": [
    "### build a custom MCP server "
   ]
  },
  {
   "cell_type": "code",
   "execution_count": null,
   "metadata": {},
   "outputs": [],
   "source": [
    "### build the custom MCP server from scratch\n",
    "### Build an app using Streamlit + langraph\n",
    "### call the built MCP server from the app to get answers"
   ]
  },
  {
   "cell_type": "code",
   "execution_count": null,
   "id": "d1a03c94",
   "metadata": {},
   "outputs": [],
   "source": [
    "# Why we require the own MCP servers, inspite of having multiple MCP servers available\n",
    "    # provide the functionality no existing MCP server offers\n",
    "    # if there is custom logic propritry to you own business , then build your own MCP servers and host it privately"
   ]
  },
  {
   "cell_type": "code",
   "execution_count": null,
   "metadata": {},
   "outputs": [],
   "source": [
    "# Will create two python scripts : 1.for custom mcp server 2. for connecting with MCP server and langgraph script\n",
    "\n",
    "# 1.custom_mcp_server.py -- custom mcp server is defined\n",
    "# 2.custom_mcp_client_langgraph.py -- connecting with MCP server and langgraph\n",
    "\n",
    "# Yes — MultiServerMCPClient is asynchronous.\n",
    "# All of its core operations (connect, get_tools, invoke_tool, etc.) are async functions because MCP communication happens over asynchronous I/O channels"
   ]
  },
  {
   "cell_type": "code",
   "execution_count": null,
   "metadata": {},
   "outputs": [],
   "source": []
  },
  {
   "cell_type": "code",
   "execution_count": null,
   "metadata": {},
   "outputs": [],
   "source": []
  },
  {
   "cell_type": "code",
   "execution_count": null,
   "metadata": {},
   "outputs": [],
   "source": []
  },
  {
   "cell_type": "code",
   "execution_count": null,
   "metadata": {},
   "outputs": [],
   "source": []
  }
 ],
 "metadata": {
  "kernelspec": {
   "display_name": "Python 3",
   "language": "python",
   "name": "python3"
  },
  "language_info": {
   "codemirror_mode": {
    "name": "ipython",
    "version": 3
   },
   "file_extension": ".py",
   "mimetype": "text/x-python",
   "name": "python",
   "nbconvert_exporter": "python",
   "pygments_lexer": "ipython3",
   "version": "3.12.1"
  }
 },
 "nbformat": 4,
 "nbformat_minor": 5
}
